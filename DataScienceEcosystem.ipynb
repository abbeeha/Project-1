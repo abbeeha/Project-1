{
  "nbformat": 4,
  "nbformat_minor": 0,
  "metadata": {
    "colab": {
      "provenance": []
    },
    "kernelspec": {
      "name": "python3",
      "display_name": "Python 3"
    },
    "language_info": {
      "name": "python"
    }
  },
  "cells": [
    {
      "cell_type": "code",
      "execution_count": null,
      "metadata": {
        "id": "WYGkUrOHFEsc"
      },
      "outputs": [],
      "source": []
    },
    {
      "cell_type": "markdown",
      "source": [
        "# Data science tools and Ecosystem"
      ],
      "metadata": {
        "id": "SyZBDpWMFeUa"
      }
    },
    {
      "cell_type": "markdown",
      "source": [
        "In this notebook, Data Science Tools and Ecosystem are summarized.\n"
      ],
      "metadata": {
        "id": "HJHcmT2oGBOy"
      }
    },
    {
      "cell_type": "markdown",
      "source": [
        "__Objectives:__\n",
        "    "
      ],
      "metadata": {
        "id": "GkrQdpR2OZ22"
      }
    },
    {
      "cell_type": "markdown",
      "source": [
        "* list four popular languages in data science\n",
        "* Arithmetics\n",
        "* Popular data science tools\n"
      ],
      "metadata": {
        "id": "cuq5ceRSO17K"
      }
    },
    {
      "cell_type": "markdown",
      "source": [
        "## Author\n",
        "Maryam"
      ],
      "metadata": {
        "id": "2vGIc2XyPo4n"
      }
    },
    {
      "cell_type": "markdown",
      "source": [
        "Some of the popular languages that Data Scientists use are:\n"
      ],
      "metadata": {
        "id": "vBwXddggGDuX"
      }
    },
    {
      "cell_type": "markdown",
      "source": [
        "1. SQL\n",
        "2. Python\n",
        "3. R\n"
      ],
      "metadata": {
        "id": "p8-xj6JCGjz2"
      }
    },
    {
      "cell_type": "markdown",
      "source": [
        "Some of the commonly used libraries by Data Scientists include:\n",
        "1. Matplotlib\n",
        "2. Pandas\n",
        "3. Scikit learn\n",
        "4. NumPy\n",
        "\n"
      ],
      "metadata": {
        "id": "vMcp4VTBG5bh"
      }
    },
    {
      "cell_type": "markdown",
      "source": [
        "| Data Science Tools|\n",
        "----------------------\n",
        "| Github|\n",
        "| Jupyter Notebook|\n",
        "| R studio|"
      ],
      "metadata": {
        "id": "-YguExn5IMOZ"
      }
    },
    {
      "cell_type": "markdown",
      "source": [
        "### Below are a few examples of evaluating arithmetic expressions in Python\n"
      ],
      "metadata": {
        "id": "fFaE091YJilr"
      }
    },
    {
      "cell_type": "markdown",
      "source": [
        "This a simple arithmetic expression to mutiply then add integers.\n"
      ],
      "metadata": {
        "id": "l4Y8tlHGKAas"
      }
    },
    {
      "cell_type": "code",
      "source": [
        "(3*4)+5\n"
      ],
      "metadata": {
        "colab": {
          "base_uri": "https://localhost:8080/"
        },
        "id": "4flFc6DDKZbv",
        "outputId": "5b02e369-6aaf-4847-cdf9-8118fe47bd82"
      },
      "execution_count": 1,
      "outputs": [
        {
          "output_type": "execute_result",
          "data": {
            "text/plain": [
              "17"
            ]
          },
          "metadata": {},
          "execution_count": 1
        }
      ]
    },
    {
      "cell_type": "markdown",
      "source": [
        "This will convert 200 minutes to hours by diving by 60.\n"
      ],
      "metadata": {
        "id": "iA04-RNMK7tm"
      }
    },
    {
      "cell_type": "code",
      "source": [
        "m = 200;\n",
        "h = m/60;\n",
        "print(h)\n"
      ],
      "metadata": {
        "colab": {
          "base_uri": "https://localhost:8080/"
        },
        "id": "TeZLAmenK9lT",
        "outputId": "2e1adfbb-6a0c-4c2b-d5f0-94438ec4c99f"
      },
      "execution_count": 6,
      "outputs": [
        {
          "output_type": "stream",
          "name": "stdout",
          "text": [
            "3.3333333333333335\n"
          ]
        }
      ]
    }
  ]
}